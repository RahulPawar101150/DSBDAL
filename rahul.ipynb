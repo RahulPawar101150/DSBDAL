{
 "cells": [
  {
   "cell_type": "code",
   "execution_count": 4,
   "id": "2903c048",
   "metadata": {},
   "outputs": [],
   "source": [
    "import pandas as pd\n",
    "dt = pd.read_csv('mycsv.csv')"
   ]
  },
  {
   "cell_type": "code",
   "execution_count": 5,
   "id": "227da4e0",
   "metadata": {},
   "outputs": [
    {
     "data": {
      "text/html": [
       "<div>\n",
       "<style scoped>\n",
       "    .dataframe tbody tr th:only-of-type {\n",
       "        vertical-align: middle;\n",
       "    }\n",
       "\n",
       "    .dataframe tbody tr th {\n",
       "        vertical-align: top;\n",
       "    }\n",
       "\n",
       "    .dataframe thead th {\n",
       "        text-align: right;\n",
       "    }\n",
       "</style>\n",
       "<table border=\"1\" class=\"dataframe\">\n",
       "  <thead>\n",
       "    <tr style=\"text-align: right;\">\n",
       "      <th></th>\n",
       "      <th>Brand</th>\n",
       "      <th>Description</th>\n",
       "      <th>Price</th>\n",
       "      <th>Size</th>\n",
       "      <th>Volume</th>\n",
       "      <th>Classification</th>\n",
       "      <th>PurchasePrice</th>\n",
       "      <th>VendorNumber</th>\n",
       "      <th>VendorName</th>\n",
       "    </tr>\n",
       "  </thead>\n",
       "  <tbody>\n",
       "    <tr>\n",
       "      <th>0</th>\n",
       "      <td>58</td>\n",
       "      <td>Gekkeikan Black &amp; Gold Sake</td>\n",
       "      <td>12.99</td>\n",
       "      <td>750mL</td>\n",
       "      <td>750</td>\n",
       "      <td>1</td>\n",
       "      <td>9.28</td>\n",
       "      <td>8320</td>\n",
       "      <td>SHAW ROSS INT L IMP LTD</td>\n",
       "    </tr>\n",
       "    <tr>\n",
       "      <th>1</th>\n",
       "      <td>62</td>\n",
       "      <td>Herradura Silver Tequila</td>\n",
       "      <td>36.99</td>\n",
       "      <td>750mL</td>\n",
       "      <td>750</td>\n",
       "      <td>1</td>\n",
       "      <td>28.67</td>\n",
       "      <td>1128</td>\n",
       "      <td>BROWN-FORMAN CORP</td>\n",
       "    </tr>\n",
       "    <tr>\n",
       "      <th>2</th>\n",
       "      <td>63</td>\n",
       "      <td>Herradura Reposado Tequila</td>\n",
       "      <td>38.99</td>\n",
       "      <td>750mL</td>\n",
       "      <td>750</td>\n",
       "      <td>1</td>\n",
       "      <td>30.46</td>\n",
       "      <td>1128</td>\n",
       "      <td>BROWN-FORMAN CORP</td>\n",
       "    </tr>\n",
       "    <tr>\n",
       "      <th>3</th>\n",
       "      <td>72</td>\n",
       "      <td>No. 3 London Dry Gin</td>\n",
       "      <td>34.99</td>\n",
       "      <td>750mL</td>\n",
       "      <td>750</td>\n",
       "      <td>1</td>\n",
       "      <td>26.11</td>\n",
       "      <td>9165</td>\n",
       "      <td>ULTRA BEVERAGE COMPANY LLP</td>\n",
       "    </tr>\n",
       "    <tr>\n",
       "      <th>4</th>\n",
       "      <td>75</td>\n",
       "      <td>Three Olives Tomato Vodka</td>\n",
       "      <td>14.99</td>\n",
       "      <td>750mL</td>\n",
       "      <td>750</td>\n",
       "      <td>1</td>\n",
       "      <td>10.94</td>\n",
       "      <td>7245</td>\n",
       "      <td>PROXIMO SPIRITS INC.</td>\n",
       "    </tr>\n",
       "    <tr>\n",
       "      <th>...</th>\n",
       "      <td>...</td>\n",
       "      <td>...</td>\n",
       "      <td>...</td>\n",
       "      <td>...</td>\n",
       "      <td>...</td>\n",
       "      <td>...</td>\n",
       "      <td>...</td>\n",
       "      <td>...</td>\n",
       "      <td>...</td>\n",
       "    </tr>\n",
       "    <tr>\n",
       "      <th>12256</th>\n",
       "      <td>44917</td>\n",
       "      <td>Ferreira 10-Yr Tawny Port</td>\n",
       "      <td>24.99</td>\n",
       "      <td>750mL</td>\n",
       "      <td>750</td>\n",
       "      <td>2</td>\n",
       "      <td>16.55</td>\n",
       "      <td>90024</td>\n",
       "      <td>VINILANDIA USA</td>\n",
       "    </tr>\n",
       "    <tr>\n",
       "      <th>12257</th>\n",
       "      <td>44944</td>\n",
       "      <td>Sanford Santa Rita Pnt Nr</td>\n",
       "      <td>22.99</td>\n",
       "      <td>750mL</td>\n",
       "      <td>750</td>\n",
       "      <td>2</td>\n",
       "      <td>14.93</td>\n",
       "      <td>4425</td>\n",
       "      <td>MARTIGNETTI COMPANIES</td>\n",
       "    </tr>\n",
       "    <tr>\n",
       "      <th>12258</th>\n",
       "      <td>45016</td>\n",
       "      <td>Neal One Lane Bridg Cab Svgn</td>\n",
       "      <td>93.99</td>\n",
       "      <td>750mL</td>\n",
       "      <td>750</td>\n",
       "      <td>2</td>\n",
       "      <td>61.43</td>\n",
       "      <td>10754</td>\n",
       "      <td>PERFECTA WINES</td>\n",
       "    </tr>\n",
       "    <tr>\n",
       "      <th>12259</th>\n",
       "      <td>46011</td>\n",
       "      <td>Folonari Pnt Nr Venezie</td>\n",
       "      <td>12.99</td>\n",
       "      <td>1500ml</td>\n",
       "      <td>1500</td>\n",
       "      <td>2</td>\n",
       "      <td>8.90</td>\n",
       "      <td>9744</td>\n",
       "      <td>FREDERICK WILDMAN &amp; SONS</td>\n",
       "    </tr>\n",
       "    <tr>\n",
       "      <th>12260</th>\n",
       "      <td>46964</td>\n",
       "      <td>Calera Viognier Mt Harlan</td>\n",
       "      <td>35.99</td>\n",
       "      <td>750mL</td>\n",
       "      <td>750</td>\n",
       "      <td>2</td>\n",
       "      <td>24.32</td>\n",
       "      <td>10754</td>\n",
       "      <td>PERFECTA WINES</td>\n",
       "    </tr>\n",
       "  </tbody>\n",
       "</table>\n",
       "<p>12261 rows × 9 columns</p>\n",
       "</div>"
      ],
      "text/plain": [
       "       Brand                   Description  Price    Size Volume  \\\n",
       "0         58   Gekkeikan Black & Gold Sake  12.99   750mL    750   \n",
       "1         62      Herradura Silver Tequila  36.99   750mL    750   \n",
       "2         63    Herradura Reposado Tequila  38.99   750mL    750   \n",
       "3         72          No. 3 London Dry Gin  34.99   750mL    750   \n",
       "4         75     Three Olives Tomato Vodka  14.99   750mL    750   \n",
       "...      ...                           ...    ...     ...    ...   \n",
       "12256  44917     Ferreira 10-Yr Tawny Port  24.99   750mL    750   \n",
       "12257  44944     Sanford Santa Rita Pnt Nr  22.99   750mL    750   \n",
       "12258  45016  Neal One Lane Bridg Cab Svgn  93.99   750mL    750   \n",
       "12259  46011       Folonari Pnt Nr Venezie  12.99  1500ml   1500   \n",
       "12260  46964     Calera Viognier Mt Harlan  35.99   750mL    750   \n",
       "\n",
       "       Classification  PurchasePrice  VendorNumber  \\\n",
       "0                   1           9.28          8320   \n",
       "1                   1          28.67          1128   \n",
       "2                   1          30.46          1128   \n",
       "3                   1          26.11          9165   \n",
       "4                   1          10.94          7245   \n",
       "...               ...            ...           ...   \n",
       "12256               2          16.55         90024   \n",
       "12257               2          14.93          4425   \n",
       "12258               2          61.43         10754   \n",
       "12259               2           8.90          9744   \n",
       "12260               2          24.32         10754   \n",
       "\n",
       "                        VendorName  \n",
       "0      SHAW ROSS INT L IMP LTD      \n",
       "1      BROWN-FORMAN CORP            \n",
       "2      BROWN-FORMAN CORP            \n",
       "3      ULTRA BEVERAGE COMPANY LLP   \n",
       "4      PROXIMO SPIRITS INC.         \n",
       "...                            ...  \n",
       "12256  VINILANDIA USA               \n",
       "12257        MARTIGNETTI COMPANIES  \n",
       "12258  PERFECTA WINES               \n",
       "12259  FREDERICK WILDMAN & SONS     \n",
       "12260  PERFECTA WINES               \n",
       "\n",
       "[12261 rows x 9 columns]"
      ]
     },
     "execution_count": 5,
     "metadata": {},
     "output_type": "execute_result"
    }
   ],
   "source": [
    "dt\n"
   ]
  },
  {
   "cell_type": "code",
   "execution_count": 6,
   "id": "1707fb38",
   "metadata": {},
   "outputs": [
    {
     "data": {
      "text/plain": [
       "Index(['Brand', 'Description', 'Price', 'Size', 'Volume', 'Classification',\n",
       "       'PurchasePrice', 'VendorNumber', 'VendorName'],\n",
       "      dtype='object')"
      ]
     },
     "execution_count": 6,
     "metadata": {},
     "output_type": "execute_result"
    }
   ],
   "source": [
    "dt.columns\n"
   ]
  },
  {
   "cell_type": "code",
   "execution_count": 7,
   "id": "5ed7086c",
   "metadata": {},
   "outputs": [
    {
     "name": "stdout",
     "output_type": "stream",
     "text": [
      "Number of Rows: 12261\n",
      "Number of Cols: 9\n"
     ]
    }
   ],
   "source": [
    "a,b=dt.shape\n",
    "print(\"Number of Rows:\",a)\n",
    "print(\"Number of Cols:\",b)"
   ]
  },
  {
   "cell_type": "code",
   "execution_count": 8,
   "id": "04c912bb",
   "metadata": {},
   "outputs": [
    {
     "data": {
      "text/plain": [
       "Brand             0\n",
       "Description       1\n",
       "Price             0\n",
       "Size              1\n",
       "Volume            1\n",
       "Classification    0\n",
       "PurchasePrice     0\n",
       "VendorNumber      0\n",
       "VendorName        0\n",
       "dtype: int64"
      ]
     },
     "execution_count": 8,
     "metadata": {},
     "output_type": "execute_result"
    }
   ],
   "source": [
    "dt.isnull().sum()"
   ]
  },
  {
   "cell_type": "code",
   "execution_count": 9,
   "id": "57e73b86",
   "metadata": {},
   "outputs": [
    {
     "data": {
      "text/plain": [
       "Brand               int64\n",
       "Description        object\n",
       "Price             float64\n",
       "Size               object\n",
       "Volume             object\n",
       "Classification      int64\n",
       "PurchasePrice     float64\n",
       "VendorNumber        int64\n",
       "VendorName         object\n",
       "dtype: object"
      ]
     },
     "execution_count": 9,
     "metadata": {},
     "output_type": "execute_result"
    }
   ],
   "source": [
    "dt.dtypes"
   ]
  },
  {
   "cell_type": "code",
   "execution_count": 10,
   "id": "f18ece87",
   "metadata": {},
   "outputs": [
    {
     "data": {
      "text/html": [
       "<div>\n",
       "<style scoped>\n",
       "    .dataframe tbody tr th:only-of-type {\n",
       "        vertical-align: middle;\n",
       "    }\n",
       "\n",
       "    .dataframe tbody tr th {\n",
       "        vertical-align: top;\n",
       "    }\n",
       "\n",
       "    .dataframe thead th {\n",
       "        text-align: right;\n",
       "    }\n",
       "</style>\n",
       "<table border=\"1\" class=\"dataframe\">\n",
       "  <thead>\n",
       "    <tr style=\"text-align: right;\">\n",
       "      <th></th>\n",
       "      <th>Brand</th>\n",
       "      <th>Price</th>\n",
       "      <th>Classification</th>\n",
       "      <th>PurchasePrice</th>\n",
       "      <th>VendorNumber</th>\n",
       "    </tr>\n",
       "  </thead>\n",
       "  <tbody>\n",
       "    <tr>\n",
       "      <th>count</th>\n",
       "      <td>12261.000000</td>\n",
       "      <td>12261.000000</td>\n",
       "      <td>12261.000000</td>\n",
       "      <td>12261.000000</td>\n",
       "      <td>12261.000000</td>\n",
       "    </tr>\n",
       "    <tr>\n",
       "      <th>mean</th>\n",
       "      <td>17989.067123</td>\n",
       "      <td>38.640240</td>\n",
       "      <td>1.708996</td>\n",
       "      <td>26.488220</td>\n",
       "      <td>10814.861757</td>\n",
       "    </tr>\n",
       "    <tr>\n",
       "      <th>std</th>\n",
       "      <td>12528.503464</td>\n",
       "      <td>206.151172</td>\n",
       "      <td>0.454244</td>\n",
       "      <td>156.182948</td>\n",
       "      <td>19007.682322</td>\n",
       "    </tr>\n",
       "    <tr>\n",
       "      <th>min</th>\n",
       "      <td>58.000000</td>\n",
       "      <td>0.000000</td>\n",
       "      <td>1.000000</td>\n",
       "      <td>0.000000</td>\n",
       "      <td>2.000000</td>\n",
       "    </tr>\n",
       "    <tr>\n",
       "      <th>25%</th>\n",
       "      <td>5990.000000</td>\n",
       "      <td>10.990000</td>\n",
       "      <td>1.000000</td>\n",
       "      <td>6.890000</td>\n",
       "      <td>3960.000000</td>\n",
       "    </tr>\n",
       "    <tr>\n",
       "      <th>50%</th>\n",
       "      <td>18788.000000</td>\n",
       "      <td>15.990000</td>\n",
       "      <td>2.000000</td>\n",
       "      <td>10.650000</td>\n",
       "      <td>7153.000000</td>\n",
       "    </tr>\n",
       "    <tr>\n",
       "      <th>75%</th>\n",
       "      <td>25117.000000</td>\n",
       "      <td>29.990000</td>\n",
       "      <td>2.000000</td>\n",
       "      <td>20.130000</td>\n",
       "      <td>9552.000000</td>\n",
       "    </tr>\n",
       "    <tr>\n",
       "      <th>max</th>\n",
       "      <td>90631.000000</td>\n",
       "      <td>13999.900000</td>\n",
       "      <td>2.000000</td>\n",
       "      <td>11111.030000</td>\n",
       "      <td>173357.000000</td>\n",
       "    </tr>\n",
       "  </tbody>\n",
       "</table>\n",
       "</div>"
      ],
      "text/plain": [
       "              Brand         Price  Classification  PurchasePrice  \\\n",
       "count  12261.000000  12261.000000    12261.000000   12261.000000   \n",
       "mean   17989.067123     38.640240        1.708996      26.488220   \n",
       "std    12528.503464    206.151172        0.454244     156.182948   \n",
       "min       58.000000      0.000000        1.000000       0.000000   \n",
       "25%     5990.000000     10.990000        1.000000       6.890000   \n",
       "50%    18788.000000     15.990000        2.000000      10.650000   \n",
       "75%    25117.000000     29.990000        2.000000      20.130000   \n",
       "max    90631.000000  13999.900000        2.000000   11111.030000   \n",
       "\n",
       "        VendorNumber  \n",
       "count   12261.000000  \n",
       "mean    10814.861757  \n",
       "std     19007.682322  \n",
       "min         2.000000  \n",
       "25%      3960.000000  \n",
       "50%      7153.000000  \n",
       "75%      9552.000000  \n",
       "max    173357.000000  "
      ]
     },
     "execution_count": 10,
     "metadata": {},
     "output_type": "execute_result"
    }
   ],
   "source": [
    "dt.describe()"
   ]
  },
  {
   "cell_type": "code",
   "execution_count": 11,
   "id": "75d059a3",
   "metadata": {},
   "outputs": [
    {
     "data": {
      "text/plain": [
       "0.0"
      ]
     },
     "execution_count": 11,
     "metadata": {},
     "output_type": "execute_result"
    }
   ],
   "source": [
    "dt.PurchasePrice.min()"
   ]
  },
  {
   "cell_type": "code",
   "execution_count": 12,
   "id": "401ee80e",
   "metadata": {},
   "outputs": [
    {
     "data": {
      "text/plain": [
       "13999.9"
      ]
     },
     "execution_count": 12,
     "metadata": {},
     "output_type": "execute_result"
    }
   ],
   "source": [
    "dt.Price.max()"
   ]
  },
  {
   "cell_type": "code",
   "execution_count": null,
   "id": "594a860e",
   "metadata": {},
   "outputs": [],
   "source": []
  }
 ],
 "metadata": {
  "kernelspec": {
   "display_name": "Python 3 (ipykernel)",
   "language": "python",
   "name": "python3"
  },
  "language_info": {
   "codemirror_mode": {
    "name": "ipython",
    "version": 3
   },
   "file_extension": ".py",
   "mimetype": "text/x-python",
   "name": "python",
   "nbconvert_exporter": "python",
   "pygments_lexer": "ipython3",
   "version": "3.11.4"
  }
 },
 "nbformat": 4,
 "nbformat_minor": 5
}
